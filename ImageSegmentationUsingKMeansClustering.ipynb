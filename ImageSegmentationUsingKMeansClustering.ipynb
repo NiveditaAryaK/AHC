{
  "nbformat": 4,
  "nbformat_minor": 0,
  "metadata": {
    "colab": {
      "provenance": []
    },
    "kernelspec": {
      "name": "python3",
      "display_name": "Python 3"
    },
    "language_info": {
      "name": "python"
    }
  },
  "cells": [
    {
      "cell_type": "code",
      "execution_count": 2,
      "metadata": {
        "id": "CI-o89G8TmOH"
      },
      "outputs": [],
      "source": [
        "import numpy as np\n",
        "import cv2\n",
        "import matplotlib.pyplot as plt\n",
        "from sklearn.cluster import KMeans\n",
        "%matplotlib inline"
      ]
    },
    {
      "cell_type": "code",
      "source": [
        "image = cv2.imread('/content/Screenshot 2023-11-04 at 10.26.02 PM.png')\n",
        "image = cv2.cvtColor(image, cv2.COLOR_BGR2RGB)  # Convert to RGB format"
      ],
      "metadata": {
        "id": "TAzLQiHOcnxR"
      },
      "execution_count": 3,
      "outputs": []
    },
    {
      "cell_type": "code",
      "source": [
        "pixels = image.reshape(-1, 3)"
      ],
      "metadata": {
        "id": "D-Lxl9a9c_yS"
      },
      "execution_count": 4,
      "outputs": []
    },
    {
      "cell_type": "code",
      "source": [
        "n_clusters = 5  # Adjust the number of clusters based on your needs\n"
      ],
      "metadata": {
        "id": "flxDrSsmdmH3"
      },
      "execution_count": 5,
      "outputs": []
    },
    {
      "cell_type": "code",
      "source": [
        "kmeans = KMeans(n_clusters=n_clusters, random_state=0,n_init=10)\n",
        "kmeans.fit(pixels)\n",
        "labels = kmeans.labels_\n"
      ],
      "metadata": {
        "id": "4BM8o-fqdqO8"
      },
      "execution_count": 7,
      "outputs": []
    },
    {
      "cell_type": "code",
      "source": [
        "segmented_image = labels.reshape(image.shape[:2])\n",
        "segment_masks = [segmented_image == i for i in range(n_clusters)]\n",
        "\n"
      ],
      "metadata": {
        "id": "IGxPNadMdxB_"
      },
      "execution_count": 11,
      "outputs": []
    },
    {
      "cell_type": "code",
      "source": [
        "plt.figure(figsize=(10, 8))\n",
        "plt.imshow(segmented_image, cmap='tab20', interpolation='nearest')\n",
        "plt.axis('off')\n",
        "plt.show()\n"
      ],
      "metadata": {
        "colab": {
          "base_uri": "https://localhost:8080/",
          "height": 325
        },
        "id": "Nci1wvpQeA8U",
        "outputId": "4c24f05f-e682-4d33-c1ab-08861ca83bf3"
      },
      "execution_count": 12,
      "outputs": [
        {
          "output_type": "display_data",
          "data": {
            "text/plain": [
              "<Figure size 1000x800 with 1 Axes>"
            ],
            "image/png": "[encoded data removed]"
          },
          "metadata": {}
        }
      ]
    },
    {
      "cell_type": "code",
      "source": [
        "\n"
      ],
      "metadata": {
        "id": "eG4OQWJNeF9M"
      },
      "execution_count": 10,
      "outputs": []
    }
  ]
}